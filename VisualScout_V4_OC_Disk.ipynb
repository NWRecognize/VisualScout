{
 "cells": [
  {
   "cell_type": "code",
   "execution_count": 1,
   "metadata": {
    "ExecuteTime": {
     "end_time": "2023-06-06T18:03:55.915100100Z",
     "start_time": "2023-06-06T18:03:44.653801500Z"
    }
   },
   "outputs": [],
   "source": [
    "# Импортируем необходимые библиотеки:\n",
    "import os\n",
    "import tensorflow as tf\n",
    "from tensorflow.keras import layers\n",
    "from tensorflow.keras.preprocessing.image import ImageDataGenerator\n",
    "import numpy as np\n",
    "from tensorflow.keras.preprocessing import image"
   ]
  },
  {
   "cell_type": "code",
   "execution_count": 2,
   "metadata": {},
   "outputs": [],
   "source": [
    "# Задаем путь к папкам с изображениями и параметры для обучения:\n",
    "\n",
    "train_dir = r'C:\\Users\\compv\\PycharmProjects\\VisualScout\\train'\n",
    "val_dir = r'C:\\Users\\compv\\PycharmProjects\\VisualScout\\val'\n",
    "\n",
    "batch_size = 40\n",
    "img_height = 512\n",
    "img_width = 512"
   ]
  },
  {
   "cell_type": "code",
   "execution_count": 3,
   "metadata": {},
   "outputs": [
    {
     "name": "stdout",
     "output_type": "stream",
     "text": [
      "Found 2282 images belonging to 2 classes.\n",
      "Found 292 images belonging to 2 classes.\n"
     ]
    }
   ],
   "source": [
    "# Создаем генераторы для обучения и валидации:\n",
    "\n",
    "train_datagen = ImageDataGenerator(rescale=1./255)\n",
    "train_generator = train_datagen.flow_from_directory(\n",
    "        train_dir,\n",
    "        target_size=(img_height, img_width),\n",
    "        batch_size=batch_size,\n",
    "        class_mode='binary')\n",
    "\n",
    "val_datagen = ImageDataGenerator(rescale=1./255)\n",
    "val_generator = val_datagen.flow_from_directory(\n",
    "        val_dir,\n",
    "        target_size=(img_height, img_width),\n",
    "        batch_size=batch_size,\n",
    "        class_mode='binary')\n"
   ]
  },
  {
   "cell_type": "code",
   "execution_count": 4,
   "metadata": {},
   "outputs": [],
   "source": [
    "# Создаем модель нейросети:\n",
    "\n",
    "# model = tf.keras.Sequential([\n",
    "#     layers.Conv2D(16, 3, padding='same', activation='relu', input_shape=(img_height, img_width ,3)),\n",
    "#     layers.MaxPooling2D(),\n",
    "#     layers.Conv2D(32, 3, padding='same', activation='relu'),\n",
    "#     layers.MaxPooling2D(),\n",
    "#     layers.Conv2D(64, 3, padding='same', activation='relu'),\n",
    "#     layers.MaxPooling2D(),\n",
    "#     layers.Flatten(),\n",
    "#     layers.Dense(128, activation='relu'),\n",
    "#     layers.Dense(1, activation='sigmoid')\n",
    "# ])\n"
   ]
  },
  {
   "cell_type": "code",
   "execution_count": 5,
   "metadata": {},
   "outputs": [],
   "source": [
    "# Создаем модель нейросети:\n",
    "\n",
    "model = tf.keras.Sequential([\n",
    "    layers.Conv2D(32, 3, padding='same', activation='relu', input_shape=(img_height, img_width, 3)),\n",
    "    layers.MaxPooling2D(),\n",
    "    layers.Conv2D(64, 3, padding='same', activation='relu'),\n",
    "    layers.MaxPooling2D(),\n",
    "    layers.Conv2D(128, 3, padding='same', activation='relu'),\n",
    "    layers.MaxPooling2D(),\n",
    "    layers.Conv2D(256, 3, padding='same', activation='relu'),\n",
    "    layers.MaxPooling2D(),\n",
    "    layers.Conv2D(512, 3, padding='same', activation='relu'),\n",
    "    layers.MaxPooling2D(),\n",
    "    layers.Flatten(),\n",
    "    layers.Dense(512, activation='relu'),\n",
    "    layers.Dropout(0.5),\n",
    "    layers.Dense(256, activation='relu'),\n",
    "    layers.Dropout(0.5),\n",
    "    layers.Dense(1, activation='sigmoid')\n",
    "])"
   ]
  },
  {
   "cell_type": "code",
   "execution_count": 6,
   "metadata": {},
   "outputs": [],
   "source": [
    "# Компилируем модель:\n",
    "\n",
    "model.compile(optimizer='adam',\n",
    "              loss='binary_crossentropy',\n",
    "              metrics=['accuracy'])\n"
   ]
  },
  {
   "cell_type": "code",
   "execution_count": 7,
   "metadata": {},
   "outputs": [
    {
     "name": "stdout",
     "output_type": "stream",
     "text": [
      "Epoch 1/3\n",
      "58/58 [==============================] - 1848s 32s/step - loss: 0.4963 - accuracy: 0.7778 - val_loss: 0.1222 - val_accuracy: 0.9692\n",
      "Epoch 2/3\n",
      "58/58 [==============================] - 1782s 31s/step - loss: 0.2485 - accuracy: 0.9084 - val_loss: 0.1140 - val_accuracy: 0.9795\n",
      "Epoch 3/3\n",
      "58/58 [==============================] - 1910s 33s/step - loss: 0.2348 - accuracy: 0.9045 - val_loss: 0.2671 - val_accuracy: 0.9863\n"
     ]
    }
   ],
   "source": [
    "# Обучаем модель:\n",
    "\n",
    "epochs = 3\n",
    "history = model.fit(\n",
    "    train_generator,\n",
    "    epochs=epochs,\n",
    "    validation_data=val_generator\n",
    ")\n"
   ]
  },
  {
   "cell_type": "code",
   "execution_count": 8,
   "metadata": {},
   "outputs": [
    {
     "name": "stdout",
     "output_type": "stream",
     "text": [
      "1/1 [==============================] - 1s 640ms/step\n",
      "[[0.]]\n",
      "gun\n"
     ]
    }
   ],
   "source": [
    "img_path = r'C:\\Users\\compv\\PycharmProjects\\VisualScout\\test\\Person\\person_3.png'\n",
    "\n",
    "img = image.load_img(img_path, target_size=(img_height, img_width))\n",
    "img_array = image.img_to_array(img)\n",
    "img_array = np.expand_dims(img_array, axis=0)\n",
    "result = model.predict(img_array)\n",
    "\n",
    "print (result)\n",
    "if result[0] > 0.5:\n",
    "    print('person')\n",
    "else:\n",
    "    print('gun')\n",
    "        \n",
    "img.show()"
   ]
  },
  {
   "cell_type": "code",
   "execution_count": 9,
   "metadata": {},
   "outputs": [
    {
     "name": "stdout",
     "output_type": "stream",
     "text": [
      "1/1 [==============================] - 0s 363ms/step\n",
      "[[0.]]\n",
      "gun\n"
     ]
    }
   ],
   "source": [
    "img_path = r'C:\\Users\\compv\\PycharmProjects\\VisualScout\\test\\Gun\\gun_9.png'\n",
    "\n",
    "img = image.load_img(img_path, target_size=(img_height, img_width))\n",
    "img_array = image.img_to_array(img)\n",
    "img_array = np.expand_dims(img_array, axis=0)\n",
    "result = model.predict(img_array)\n",
    "\n",
    "print (result)\n",
    "if result[0] > 0.5:\n",
    "    print('person')\n",
    "else:\n",
    "    print('gun')\n",
    "        \n",
    "img.show()"
   ]
  },
  {
   "cell_type": "code",
   "execution_count": 10,
   "metadata": {},
   "outputs": [],
   "source": [
    "model.save(r'C:\\Users\\compv\\PycharmProjects\\VisualScout\\test\\model_person_gun_V4_3_epoch.h5')\n",
    "model.save_weights(r'C:\\Users\\compv\\PycharmProjects\\VisualScout\\test\\model_weights_person_gun_V4_3_epoch.h5')"
   ]
  },
  {
   "cell_type": "code",
   "execution_count": null,
   "metadata": {},
   "outputs": [],
   "source": []
  }
 ],
 "metadata": {
  "kernelspec": {
   "display_name": "Python 3 (ipykernel)",
   "language": "python",
   "name": "python3"
  },
  "language_info": {
   "codemirror_mode": {
    "name": "ipython",
    "version": 3
   },
   "file_extension": ".py",
   "mimetype": "text/x-python",
   "name": "python",
   "nbconvert_exporter": "python",
   "pygments_lexer": "ipython3",
   "version": "3.9.13"
  }
 },
 "nbformat": 4,
 "nbformat_minor": 1
}
